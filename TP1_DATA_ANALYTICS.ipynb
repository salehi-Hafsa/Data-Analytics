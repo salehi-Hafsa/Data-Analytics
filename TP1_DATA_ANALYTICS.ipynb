{
 "cells": [
  {
   "cell_type": "markdown",
   "metadata": {},
   "source": [
    "# DATA ANALYTICS\n",
    "## descriptive Analysis\n",
    "### TP1 – Python\n",
    "#### Part 1\n",
    "\n",
    "The objective of this lab is to conduct an exploratory/descriptive analysis on a file of purchases made by customers of a retailing group of decorative items and furniture."
   ]
  },
  {
   "cell_type": "markdown",
   "metadata": {},
   "source": [
    "First, let's import the libraries we will need\n"
   ]
  },
  {
   "cell_type": "code",
   "execution_count": 1,
   "metadata": {},
   "outputs": [],
   "source": [
    "import pandas as pd"
   ]
  },
  {
   "cell_type": "markdown",
   "metadata": {},
   "source": [
    "1. Load data from the file \" AchatClients.csv \" We specify dtype=object so that all the variables are read as strings. Then we will proceed to the conversion for the quantitative variables."
   ]
  },
  {
   "cell_type": "code",
   "execution_count": 2,
   "metadata": {},
   "outputs": [],
   "source": [
    "# 'AchatClients.csv' is in the same directory that your python process is based\n",
    "df=pd.read_csv('AchatClients.csv', \n",
    "               dtype=object, delimiter=\"\\t\")"
   ]
  },
  {
   "cell_type": "markdown",
   "metadata": {},
   "source": [
    "2.\tExplore data structure \n",
    "The file is transformed into a dataframe"
   ]
  },
  {
   "cell_type": "code",
   "execution_count": 3,
   "metadata": {},
   "outputs": [
    {
     "name": "stdout",
     "output_type": "stream",
     "text": [
      "<class 'pandas.core.frame.DataFrame'>\n"
     ]
    }
   ],
   "source": [
    "print(type(df))"
   ]
  },
  {
   "cell_type": "code",
   "execution_count": 4,
   "metadata": {},
   "outputs": [
    {
     "data": {
      "text/plain": [
       "Index(['TIC_ENT_ID', 'NOMPRENOM', 'ADRESSE', 'COORDCLT', 'CMD_CLT_CODE',\n",
       "       'MAG_CMD_CODE', 'DATE_MAJ_BATCH', 'CODE_RAY', 'CODE_PUB', 'TIC_ENT_CIV',\n",
       "       'CP_ID', 'CLT_FACTU_QTE_LIVR', 'TIC_ENT_N_CART_PAIE', 'PRIX_VENTE_ETIQ',\n",
       "       'CLT_FACTU_PUV', 'CLT_FACTU_MNT_FACTU_TTC', 'MNT_LIGNE_RED_F02223_TTC',\n",
       "       'ID_CDE_MAGENTO', 'NEWSLETTRE', 'ARTREF_CODE', 'CODE_FAM',\n",
       "       'CODE_SOU_FAM'],\n",
       "      dtype='object')"
      ]
     },
     "execution_count": 4,
     "metadata": {},
     "output_type": "execute_result"
    }
   ],
   "source": [
    "df.columns"
   ]
  },
  {
   "cell_type": "code",
   "execution_count": 5,
   "metadata": {},
   "outputs": [
    {
     "name": "stdout",
     "output_type": "stream",
     "text": [
      "2447\n",
      "22\n"
     ]
    }
   ],
   "source": [
    "print(df.shape[0])  # explorer le nombre de lignes du fichier\n",
    "print(df.shape[1])  # explorer le nombre de colonnes du fichier"
   ]
  },
  {
   "cell_type": "markdown",
   "metadata": {},
   "source": [
    "3.\tModify columns names of the columns\n",
    "\n",
    "display to check the modification\n",
    "\n",
    "display each column type to make the necessary corrections/conversions"
   ]
  },
  {
   "cell_type": "code",
   "execution_count": 6,
   "metadata": {},
   "outputs": [],
   "source": [
    "df.columns=['NumTicket','FullName','Address','Coordonnees','NumCommande','store',\n",
    "            'PurchaseDate','Departement','ArticleEnPub',\n",
    "           'SocialSit','CodePostal','Quantity','NumFidCard','LabelPrice','UnitPrice','AmountBeforeReduction',\n",
    "           'AmountAfterReduction','CodeWeb','NewsletterSubscriber','Article','Family','SubFamily']"
   ]
  },
  {
   "cell_type": "code",
   "execution_count": 7,
   "metadata": {},
   "outputs": [
    {
     "data": {
      "text/plain": [
       "Index(['NumTicket', 'FullName', 'Address', 'Coordonnees', 'NumCommande',\n",
       "       'store', 'PurchaseDate', 'Departement', 'ArticleEnPub', 'SocialSit',\n",
       "       'CodePostal', 'Quantity', 'NumFidCard', 'LabelPrice', 'UnitPrice',\n",
       "       'AmountBeforeReduction', 'AmountAfterReduction', 'CodeWeb',\n",
       "       'NewsletterSubscriber', 'Article', 'Family', 'SubFamily'],\n",
       "      dtype='object')"
      ]
     },
     "execution_count": 7,
     "metadata": {},
     "output_type": "execute_result"
    }
   ],
   "source": [
    "df.columns"
   ]
  },
  {
   "cell_type": "code",
   "execution_count": 8,
   "metadata": {},
   "outputs": [
    {
     "name": "stdout",
     "output_type": "stream",
     "text": [
      "NumTicket                object\n",
      "FullName                 object\n",
      "Address                  object\n",
      "Coordonnees              object\n",
      "NumCommande              object\n",
      "store                    object\n",
      "PurchaseDate             object\n",
      "Departement              object\n",
      "ArticleEnPub             object\n",
      "SocialSit                object\n",
      "CodePostal               object\n",
      "Quantity                 object\n",
      "NumFidCard               object\n",
      "LabelPrice               object\n",
      "UnitPrice                object\n",
      "AmountBeforeReduction    object\n",
      "AmountAfterReduction     object\n",
      "CodeWeb                  object\n",
      "NewsletterSubscriber     object\n",
      "Article                  object\n",
      "Family                   object\n",
      "SubFamily                object\n",
      "dtype: object\n"
     ]
    }
   ],
   "source": [
    "print(df.dtypes)"
   ]
  },
  {
   "cell_type": "markdown",
   "metadata": {},
   "source": [
    "4.\tConvert columns types\n",
    "\n",
    "Some columns should be numerical, others are qualitative (categorical) variables. \n",
    "\n",
    "\n",
    "Pay attention to the date.\n",
    "\n",
    "\n",
    "You can correct column by column, or several columns at once."
   ]
  },
  {
   "cell_type": "code",
   "execution_count": 9,
   "metadata": {},
   "outputs": [],
   "source": [
    "df[['Quantity']] = df[['Quantity']].apply(pd.to_numeric)\n",
    "\n",
    "df = df.astype({'NumTicket':'str','FullName':'category','Address':'str','Coordonnees':'str',\n",
    "                             'NumCommande':'str','store':'category','Departement':'category',\n",
    "                              'ArticleEnPub':'category','SocialSit':'category','CodePostal':'category',\n",
    "                             'NumFidCard':'str','CodeWeb':'str','NewsletterSubscriber':'category',\n",
    "                              'Article':'category','Family':'category','SubFamily':'category'})\n",
    "\n",
    "df['PurchaseDate'] = df['PurchaseDate'].apply(pd.to_datetime)\n",
    "\n"
   ]
  },
  {
   "cell_type": "code",
   "execution_count": 10,
   "metadata": {},
   "outputs": [
    {
     "data": {
      "text/plain": [
       "<bound method NDFrame.head of      NumTicket             FullName                      Address  \\\n",
       "0     17949252    AUCLAIR ALEXANDRA       180 RUE DES ECUREUILS    \n",
       "1     12817341       AMABLE NICOLAS              76 AV CHEVREUL    \n",
       "2     13575108         AMIS REBECCA          LE HAUT CARABOUET     \n",
       "3     19135477   AMICHAUD CATHERINE              22 RUE CHARLET    \n",
       "4      9170032              ARZOUNI         46 RUE D'ARGENTEUIL    \n",
       "...        ...                  ...                          ...   \n",
       "2442  23177060          ZENINA HENI              RUE RENE HOUAT    \n",
       "2443  16795053       ZULAIKA RAFAEL         8 RUE GABRIEL FAURE    \n",
       "2444  24026738            ZORN ZORN  18 RUE DU PONT DE L ABBAYE    \n",
       "2445   3187683     ZILLIG ANNABELLE        12 RUE DE LA LAMPROI    \n",
       "2446  20022450  ZIMMERMANN SANDRINE    74 CHEMIN DE FRANCHEMARE    \n",
       "\n",
       "                                            Coordonnees NumCommande store  \\\n",
       "0     AUCLAIR ALEXANDRA MME 180 RUE DES ECUREUILS  P...     T274632   752   \n",
       "1     AMABLE NICOLAS MR 76 AV CHEVREUL  ASNIERES SUR...     T618825   895   \n",
       "2        AMIS REBECCA MME LE HAUT CARABOUET   TINTENIAC     TA30682   905   \n",
       "3        AMICHAUD CATHERINE MME 22 RUE CHARLET  BOURGES     T161220   941   \n",
       "4            ARZOUNI MR 46 RUE D'ARGENTEUIL  ST GRATIEN     T838230   865   \n",
       "...                                                 ...         ...   ...   \n",
       "2442                ZENINA HENI MR RUE RENE HOUAT  NICE     TJ42606   791   \n",
       "2443  ZULAIKA RAFAEL MR 8 RUE GABRIEL FAURE  VIEUX B...     T557927   U10   \n",
       "2444  ZORN ZORN MME 18 RUE DU PONT DE L ABBAYE  MARQ...      598538   554   \n",
       "2445  ZILLIG ANNABELLE MLE 12 RUE DE LA LAMPROI  STR...     T612830   152   \n",
       "2446  ZIMMERMANN SANDRINE  74 CHEMIN DE FRANCHEMARE ...      340151   175   \n",
       "\n",
       "     PurchaseDate Departement ArticleEnPub SocialSit  ...         NumFidCard  \\\n",
       "0      2014-05-08           7          NaN       MME  ...  03309000531628503   \n",
       "1      2013-03-24           6          NaN        MR  ...                nan   \n",
       "2      2013-06-08           P          NaN       MME  ...                nan   \n",
       "3      2014-08-30           7          NaN       MME  ...                nan   \n",
       "4      2012-12-02           6          NaN        MR  ...                nan   \n",
       "...           ...         ...          ...       ...  ...                ...   \n",
       "2442   2016-03-17           6           PB        MR  ...                nan   \n",
       "2443   2014-01-18           6          NaN        MR  ...                nan   \n",
       "2444   2016-08-27           7           PB       MME  ...  03596500132529903   \n",
       "2445   2011-08-26           6          NaN       MLE  ...  03675500204251182   \n",
       "2446   2014-11-22           C          NaN       NaN  ...  03548400332459929   \n",
       "\n",
       "      LabelPrice UnitPrice AmountBeforeReduction AmountAfterReduction CodeWeb  \\\n",
       "0          39.99     39.99                 39.99                38.18     nan   \n",
       "1            289       289                286.85               286.85     nan   \n",
       "2              0         0                     0                    0     nan   \n",
       "3          13.99      9.79                  9.79                 9.79     nan   \n",
       "4            159       159                   159                  159     nan   \n",
       "...          ...       ...                   ...                  ...     ...   \n",
       "2442         149       149                   149                  149     nan   \n",
       "2443       89.95     89.95                 89.95                89.95     nan   \n",
       "2444         3.9       3.9                  3.51                 3.51     nan   \n",
       "2445        99.5      99.5                   199               196.31     nan   \n",
       "2446        4.88     -4.88                 -4.88                -4.88     nan   \n",
       "\n",
       "     NewsletterSubscriber   Article Family SubFamily  \n",
       "0                     NaN  77746200     96       854  \n",
       "1                     NaN  77722074     69       692  \n",
       "2                     NaN      F840     23       840  \n",
       "3                     NaN  77739607     80       807  \n",
       "4                     NaN  77706958     63       632  \n",
       "...                   ...       ...    ...       ...  \n",
       "2442                  NaN  67590334     88       675  \n",
       "2443                  NaN  77742854     89       890  \n",
       "2444                  NaN  77733730     75       758  \n",
       "2445                  NaN  77707761     64       642  \n",
       "2446                  NaN      F023     CF        23  \n",
       "\n",
       "[2447 rows x 22 columns]>"
      ]
     },
     "execution_count": 10,
     "metadata": {},
     "output_type": "execute_result"
    }
   ],
   "source": [
    "df.head"
   ]
  },
  {
   "cell_type": "markdown",
   "metadata": {},
   "source": [
    "5.\tDisplay the information of the ticket 13775904\n",
    "\n",
    "We make a kind of filter to select the line with the ticket number 13775904"
   ]
  },
  {
   "cell_type": "code",
   "execution_count": 11,
   "metadata": {},
   "outputs": [
    {
     "data": {
      "text/html": [
       "<div>\n",
       "<style scoped>\n",
       "    .dataframe tbody tr th:only-of-type {\n",
       "        vertical-align: middle;\n",
       "    }\n",
       "\n",
       "    .dataframe tbody tr th {\n",
       "        vertical-align: top;\n",
       "    }\n",
       "\n",
       "    .dataframe thead th {\n",
       "        text-align: right;\n",
       "    }\n",
       "</style>\n",
       "<table border=\"1\" class=\"dataframe\">\n",
       "  <thead>\n",
       "    <tr style=\"text-align: right;\">\n",
       "      <th></th>\n",
       "      <th>NumTicket</th>\n",
       "      <th>FullName</th>\n",
       "      <th>Address</th>\n",
       "      <th>Coordonnees</th>\n",
       "      <th>NumCommande</th>\n",
       "      <th>store</th>\n",
       "      <th>PurchaseDate</th>\n",
       "      <th>Departement</th>\n",
       "      <th>ArticleEnPub</th>\n",
       "      <th>SocialSit</th>\n",
       "      <th>...</th>\n",
       "      <th>NumFidCard</th>\n",
       "      <th>LabelPrice</th>\n",
       "      <th>UnitPrice</th>\n",
       "      <th>AmountBeforeReduction</th>\n",
       "      <th>AmountAfterReduction</th>\n",
       "      <th>CodeWeb</th>\n",
       "      <th>NewsletterSubscriber</th>\n",
       "      <th>Article</th>\n",
       "      <th>Family</th>\n",
       "      <th>SubFamily</th>\n",
       "    </tr>\n",
       "  </thead>\n",
       "  <tbody>\n",
       "    <tr>\n",
       "      <th>2227</th>\n",
       "      <td>13775904</td>\n",
       "      <td>XL CUISINES</td>\n",
       "      <td>0000000000</td>\n",
       "      <td>XL CUISINES STE 0000000000  ARRAS</td>\n",
       "      <td>581982</td>\n",
       "      <td>531</td>\n",
       "      <td>2013-05-22</td>\n",
       "      <td>7</td>\n",
       "      <td>NaN</td>\n",
       "      <td>STE</td>\n",
       "      <td>...</td>\n",
       "      <td>nan</td>\n",
       "      <td>6.9</td>\n",
       "      <td>6.9</td>\n",
       "      <td>6.9</td>\n",
       "      <td>6.9</td>\n",
       "      <td>nan</td>\n",
       "      <td>NaN</td>\n",
       "      <td>77727747</td>\n",
       "      <td>75</td>\n",
       "      <td>750</td>\n",
       "    </tr>\n",
       "    <tr>\n",
       "      <th>2231</th>\n",
       "      <td>13775904</td>\n",
       "      <td>XL CUISINES</td>\n",
       "      <td>0000000000</td>\n",
       "      <td>XL CUISINES STE 0000000000  ARRAS</td>\n",
       "      <td>581982</td>\n",
       "      <td>531</td>\n",
       "      <td>2013-05-22</td>\n",
       "      <td>7</td>\n",
       "      <td>NaN</td>\n",
       "      <td>STE</td>\n",
       "      <td>...</td>\n",
       "      <td>nan</td>\n",
       "      <td>3.9</td>\n",
       "      <td>3.9</td>\n",
       "      <td>3.9</td>\n",
       "      <td>3.9</td>\n",
       "      <td>nan</td>\n",
       "      <td>NaN</td>\n",
       "      <td>77720165</td>\n",
       "      <td>74</td>\n",
       "      <td>761</td>\n",
       "    </tr>\n",
       "  </tbody>\n",
       "</table>\n",
       "<p>2 rows × 22 columns</p>\n",
       "</div>"
      ],
      "text/plain": [
       "     NumTicket     FullName      Address                        Coordonnees  \\\n",
       "2227  13775904  XL CUISINES  0000000000   XL CUISINES STE 0000000000  ARRAS   \n",
       "2231  13775904  XL CUISINES  0000000000   XL CUISINES STE 0000000000  ARRAS   \n",
       "\n",
       "     NumCommande store PurchaseDate Departement ArticleEnPub SocialSit  ...  \\\n",
       "2227      581982   531   2013-05-22           7          NaN       STE  ...   \n",
       "2231      581982   531   2013-05-22           7          NaN       STE  ...   \n",
       "\n",
       "     NumFidCard  LabelPrice UnitPrice AmountBeforeReduction  \\\n",
       "2227        nan         6.9       6.9                   6.9   \n",
       "2231        nan         3.9       3.9                   3.9   \n",
       "\n",
       "     AmountAfterReduction CodeWeb NewsletterSubscriber   Article Family  \\\n",
       "2227                  6.9     nan                  NaN  77727747     75   \n",
       "2231                  3.9     nan                  NaN  77720165     74   \n",
       "\n",
       "     SubFamily  \n",
       "2227       750  \n",
       "2231       761  \n",
       "\n",
       "[2 rows x 22 columns]"
      ]
     },
     "execution_count": 11,
     "metadata": {},
     "output_type": "execute_result"
    }
   ],
   "source": [
    "df.loc[df['NumTicket'] == '13775904']"
   ]
  },
  {
   "cell_type": "markdown",
   "metadata": {},
   "source": [
    "5.\tdisplay information about the purchases made by the customers FORNOS REMY and ALVAREZ \n",
    "\n",
    "This time we select the lines where the FullName is part of a list"
   ]
  },
  {
   "cell_type": "code",
   "execution_count": 12,
   "metadata": {},
   "outputs": [
    {
     "data": {
      "text/html": [
       "<div>\n",
       "<style scoped>\n",
       "    .dataframe tbody tr th:only-of-type {\n",
       "        vertical-align: middle;\n",
       "    }\n",
       "\n",
       "    .dataframe tbody tr th {\n",
       "        vertical-align: top;\n",
       "    }\n",
       "\n",
       "    .dataframe thead th {\n",
       "        text-align: right;\n",
       "    }\n",
       "</style>\n",
       "<table border=\"1\" class=\"dataframe\">\n",
       "  <thead>\n",
       "    <tr style=\"text-align: right;\">\n",
       "      <th></th>\n",
       "      <th>NumTicket</th>\n",
       "      <th>FullName</th>\n",
       "      <th>Address</th>\n",
       "      <th>Coordonnees</th>\n",
       "      <th>NumCommande</th>\n",
       "      <th>store</th>\n",
       "      <th>PurchaseDate</th>\n",
       "      <th>Departement</th>\n",
       "      <th>ArticleEnPub</th>\n",
       "      <th>SocialSit</th>\n",
       "      <th>...</th>\n",
       "      <th>NumFidCard</th>\n",
       "      <th>LabelPrice</th>\n",
       "      <th>UnitPrice</th>\n",
       "      <th>AmountBeforeReduction</th>\n",
       "      <th>AmountAfterReduction</th>\n",
       "      <th>CodeWeb</th>\n",
       "      <th>NewsletterSubscriber</th>\n",
       "      <th>Article</th>\n",
       "      <th>Family</th>\n",
       "      <th>SubFamily</th>\n",
       "    </tr>\n",
       "  </thead>\n",
       "  <tbody>\n",
       "    <tr>\n",
       "      <th>32</th>\n",
       "      <td>18196624</td>\n",
       "      <td>ALVAREZ</td>\n",
       "      <td>3 RUE DES TULIPIERS RES LES TU APT 43</td>\n",
       "      <td>ALVAREZ MR 3 RUE DES TULIPIERS RES LES TU APT ...</td>\n",
       "      <td>T033256</td>\n",
       "      <td>V50</td>\n",
       "      <td>2014-06-06</td>\n",
       "      <td>6</td>\n",
       "      <td>NaN</td>\n",
       "      <td>MR</td>\n",
       "      <td>...</td>\n",
       "      <td>nan</td>\n",
       "      <td>599</td>\n",
       "      <td>599</td>\n",
       "      <td>599</td>\n",
       "      <td>599</td>\n",
       "      <td>nan</td>\n",
       "      <td>NaN</td>\n",
       "      <td>60281189</td>\n",
       "      <td>60</td>\n",
       "      <td>602</td>\n",
       "    </tr>\n",
       "    <tr>\n",
       "      <th>526</th>\n",
       "      <td>4324364</td>\n",
       "      <td>FORNOS REMY</td>\n",
       "      <td>10 RUE DES MURIERS</td>\n",
       "      <td>FORNOS REMY MR 10 RUE DES MURIERS  RIVESALTES</td>\n",
       "      <td>T613905</td>\n",
       "      <td>705</td>\n",
       "      <td>2011-12-07</td>\n",
       "      <td>7</td>\n",
       "      <td>NaN</td>\n",
       "      <td>MR</td>\n",
       "      <td>...</td>\n",
       "      <td>03660001724838480</td>\n",
       "      <td>169</td>\n",
       "      <td>169</td>\n",
       "      <td>166.14</td>\n",
       "      <td>155.76</td>\n",
       "      <td>nan</td>\n",
       "      <td>NaN</td>\n",
       "      <td>77723529</td>\n",
       "      <td>94</td>\n",
       "      <td>944</td>\n",
       "    </tr>\n",
       "  </tbody>\n",
       "</table>\n",
       "<p>2 rows × 22 columns</p>\n",
       "</div>"
      ],
      "text/plain": [
       "    NumTicket     FullName                                Address  \\\n",
       "32   18196624      ALVAREZ  3 RUE DES TULIPIERS RES LES TU APT 43   \n",
       "526   4324364  FORNOS REMY                    10 RUE DES MURIERS    \n",
       "\n",
       "                                           Coordonnees NumCommande store  \\\n",
       "32   ALVAREZ MR 3 RUE DES TULIPIERS RES LES TU APT ...     T033256   V50   \n",
       "526      FORNOS REMY MR 10 RUE DES MURIERS  RIVESALTES     T613905   705   \n",
       "\n",
       "    PurchaseDate Departement ArticleEnPub SocialSit  ...         NumFidCard  \\\n",
       "32    2014-06-06           6          NaN        MR  ...                nan   \n",
       "526   2011-12-07           7          NaN        MR  ...  03660001724838480   \n",
       "\n",
       "     LabelPrice UnitPrice AmountBeforeReduction AmountAfterReduction CodeWeb  \\\n",
       "32          599       599                   599                  599     nan   \n",
       "526         169       169                166.14               155.76     nan   \n",
       "\n",
       "    NewsletterSubscriber   Article Family SubFamily  \n",
       "32                   NaN  60281189     60       602  \n",
       "526                  NaN  77723529     94       944  \n",
       "\n",
       "[2 rows x 22 columns]"
      ]
     },
     "execution_count": 12,
     "metadata": {},
     "output_type": "execute_result"
    }
   ],
   "source": [
    "df.loc[df['FullName'].isin(['FORNOS REMY','ALVAREZ'])]"
   ]
  },
  {
   "cell_type": "markdown",
   "metadata": {},
   "source": [
    "6.\twhat if we want to know how many customers have a Fidelity card?\n",
    "\n",
    "We count the unique values of Fid card numbers. \n",
    "\n",
    "We can deduce the percentage of customers with Fid card."
   ]
  },
  {
   "cell_type": "code",
   "execution_count": 13,
   "metadata": {},
   "outputs": [
    {
     "data": {
      "text/plain": [
       "840"
      ]
     },
     "execution_count": 13,
     "metadata": {},
     "output_type": "execute_result"
    }
   ],
   "source": [
    "df['NumFidCard'].nunique()"
   ]
  },
  {
   "cell_type": "markdown",
   "metadata": {},
   "source": [
    "7.\tWhat are the modalities of Departement variable ? NewsletterSubscriber ? SocialSit ?\n",
    "\n",
    "\n",
    "We can notice that for SocialSit there are redundancies, for example MR, Mr. and mr "
   ]
  },
  {
   "cell_type": "code",
   "execution_count": 14,
   "metadata": {},
   "outputs": [
    {
     "data": {
      "text/plain": [
       "['7', '6', 'P', 'C', nan]"
      ]
     },
     "execution_count": 14,
     "metadata": {},
     "output_type": "execute_result"
    }
   ],
   "source": [
    "df['Departement'].unique().tolist()"
   ]
  },
  {
   "cell_type": "code",
   "execution_count": 15,
   "metadata": {},
   "outputs": [
    {
     "data": {
      "text/plain": [
       "[nan, 'N', 'O']"
      ]
     },
     "execution_count": 15,
     "metadata": {},
     "output_type": "execute_result"
    }
   ],
   "source": [
    "df['NewsletterSubscriber'].unique().tolist()"
   ]
  },
  {
   "cell_type": "code",
   "execution_count": 16,
   "metadata": {},
   "outputs": [
    {
     "data": {
      "text/plain": [
       "['MME',\n",
       " 'MR',\n",
       " 'ASS',\n",
       " 'SARL',\n",
       " 'MLLE',\n",
       " 'M&MME',\n",
       " 'M.',\n",
       " 'MLE',\n",
       " nan,\n",
       " 'STE',\n",
       " 'mr',\n",
       " 'SCI',\n",
       " 'EURL',\n",
       " 'DR',\n",
       " 'M&M',\n",
       " 'mme',\n",
       " 'SA']"
      ]
     },
     "execution_count": 16,
     "metadata": {},
     "output_type": "execute_result"
    }
   ],
   "source": [
    "df['SocialSit'].unique().tolist()"
   ]
  },
  {
   "cell_type": "markdown",
   "metadata": {},
   "source": [
    "8.\tUnify SocialSit values for  MR We can do the same for all the other SocialSit to keep only: MR, MME, MLLE, COUPLE, STE and UNCONNU (UNKNOWN). \n",
    "    \n",
    "    We can then make sure that our modification has been taken into account."
   ]
  },
  {
   "cell_type": "code",
   "execution_count": 17,
   "metadata": {},
   "outputs": [],
   "source": [
    "df['SocialSit']=df['SocialSit'].replace(['M.', 'mr'], 'MR')"
   ]
  },
  {
   "cell_type": "code",
   "execution_count": 18,
   "metadata": {},
   "outputs": [
    {
     "data": {
      "text/html": [
       "<div>\n",
       "<style scoped>\n",
       "    .dataframe tbody tr th:only-of-type {\n",
       "        vertical-align: middle;\n",
       "    }\n",
       "\n",
       "    .dataframe tbody tr th {\n",
       "        vertical-align: top;\n",
       "    }\n",
       "\n",
       "    .dataframe thead th {\n",
       "        text-align: right;\n",
       "    }\n",
       "</style>\n",
       "<table border=\"1\" class=\"dataframe\">\n",
       "  <thead>\n",
       "    <tr style=\"text-align: right;\">\n",
       "      <th></th>\n",
       "      <th>NumTicket</th>\n",
       "      <th>FullName</th>\n",
       "      <th>Address</th>\n",
       "      <th>Coordonnees</th>\n",
       "      <th>NumCommande</th>\n",
       "      <th>store</th>\n",
       "      <th>PurchaseDate</th>\n",
       "      <th>Departement</th>\n",
       "      <th>ArticleEnPub</th>\n",
       "      <th>SocialSit</th>\n",
       "      <th>...</th>\n",
       "      <th>NumFidCard</th>\n",
       "      <th>LabelPrice</th>\n",
       "      <th>UnitPrice</th>\n",
       "      <th>AmountBeforeReduction</th>\n",
       "      <th>AmountAfterReduction</th>\n",
       "      <th>CodeWeb</th>\n",
       "      <th>NewsletterSubscriber</th>\n",
       "      <th>Article</th>\n",
       "      <th>Family</th>\n",
       "      <th>SubFamily</th>\n",
       "    </tr>\n",
       "  </thead>\n",
       "  <tbody>\n",
       "  </tbody>\n",
       "</table>\n",
       "<p>0 rows × 22 columns</p>\n",
       "</div>"
      ],
      "text/plain": [
       "Empty DataFrame\n",
       "Columns: [NumTicket, FullName, Address, Coordonnees, NumCommande, store, PurchaseDate, Departement, ArticleEnPub, SocialSit, CodePostal, Quantity, NumFidCard, LabelPrice, UnitPrice, AmountBeforeReduction, AmountAfterReduction, CodeWeb, NewsletterSubscriber, Article, Family, SubFamily]\n",
       "Index: []\n",
       "\n",
       "[0 rows x 22 columns]"
      ]
     },
     "execution_count": 18,
     "metadata": {},
     "output_type": "execute_result"
    }
   ],
   "source": [
    "df.loc[df['SocialSit'].isin(['M.','mr'])]"
   ]
  },
  {
   "cell_type": "markdown",
   "metadata": {},
   "source": [
    "9.\tSort the dataframe according to the variable FullName\n",
    "\n",
    "\n",
    "Note that all changes made are at the RAM level, the original file is intact.\n",
    "After the work is done, save the dataframe in a new file."
   ]
  },
  {
   "cell_type": "code",
   "execution_count": 19,
   "metadata": {},
   "outputs": [],
   "source": [
    "df=df.sort_values('FullName')"
   ]
  },
  {
   "cell_type": "markdown",
   "metadata": {},
   "source": [
    "df.to_csv(\"C:\\Users\\h\\Desktop\\Materials J1 Formation DS DAKAE\\Materials J1 Formation DS DAKAE\", index=False)"
   ]
  },
  {
   "cell_type": "markdown",
   "metadata": {},
   "source": [
    "#### Part 2"
   ]
  },
  {
   "cell_type": "markdown",
   "metadata": {},
   "source": [
    "10.\tload 'lignesAchatManip.csv' file             \n"
   ]
  },
  {
   "cell_type": "code",
   "execution_count": 20,
   "metadata": {},
   "outputs": [],
   "source": [
    "df=pd.read_csv('lignesAchatManip.csv', \n",
    "               delimiter=\"\\t\")"
   ]
  },
  {
   "cell_type": "code",
   "execution_count": 21,
   "metadata": {},
   "outputs": [
    {
     "data": {
      "text/plain": [
       "<bound method NDFrame.head of       NumTicket NomPrenom Magasin   DateAchat Rayon ArticleEnPub Civilite  \\\n",
       "0      17949252      AUCL     752  2014-05-08     7          NaN      MME   \n",
       "1      12817341      AMAB     895  2013-03-24     6          NaN       MR   \n",
       "2      13575108      AMIS     905  2013-06-08     P          NaN      MME   \n",
       "3      19135477      AMIC     941  2014-08-30     7          NaN      MME   \n",
       "4       9170032      ARZO     865  2012-12-02     6          NaN       MR   \n",
       "...         ...       ...     ...         ...   ...          ...      ...   \n",
       "2442   23177060      ZENI     791  2016-03-17     6           PB       MR   \n",
       "2443   16795053      ZULA     U10  2014-01-18     6          NaN       MR   \n",
       "2444   24026738      ZORN     554  2016-08-27     7           PB      MME   \n",
       "2445    3187683      ZILL     152  2011-08-26     6          NaN     MLLE   \n",
       "2446   20022450      ZIMM     175  2014-11-22     C          NaN  INCONNU   \n",
       "\n",
       "      CodePostal  Quantite  PrixSurEtiquette  PrixUnitaire  \\\n",
       "0          37645         1             39.99         39.99   \n",
       "1          37609         1            289.00        289.00   \n",
       "2          39117         1              0.00          0.00   \n",
       "3          36420         1             13.99          9.79   \n",
       "4          36724         1            159.00        159.00   \n",
       "...          ...       ...               ...           ...   \n",
       "2442       34579         1            149.00        149.00   \n",
       "2443       37706         1             89.95         89.95   \n",
       "2444       38668         1              3.90          3.90   \n",
       "2445       39026         2             99.50         99.50   \n",
       "2446       39616         1              4.88         -4.88   \n",
       "\n",
       "      MontantAvReduction  MontantApReduction  CodeWeb AbonneNewslettre  \\\n",
       "0                  39.99               38.18      NaN              NaN   \n",
       "1                 286.85              286.85      NaN              NaN   \n",
       "2                   0.00                0.00      NaN              NaN   \n",
       "3                   9.79                9.79      NaN              NaN   \n",
       "4                 159.00              159.00      NaN              NaN   \n",
       "...                  ...                 ...      ...              ...   \n",
       "2442              149.00              149.00      NaN              NaN   \n",
       "2443               89.95               89.95      NaN              NaN   \n",
       "2444                3.51                3.51      NaN              NaN   \n",
       "2445              199.00              196.31      NaN              NaN   \n",
       "2446               -4.88               -4.88      NaN              NaN   \n",
       "\n",
       "       Article Famille  SousFamille  \n",
       "0     77746200      96        854.0  \n",
       "1     77722074      69        692.0  \n",
       "2         F840      23        840.0  \n",
       "3     77739607      80        807.0  \n",
       "4     77706958      63        632.0  \n",
       "...        ...     ...          ...  \n",
       "2442  67590334      88        675.0  \n",
       "2443  77742854      89        890.0  \n",
       "2444  77733730      75        758.0  \n",
       "2445  77707761      64        642.0  \n",
       "2446      F023      CF         23.0  \n",
       "\n",
       "[2447 rows x 18 columns]>"
      ]
     },
     "execution_count": 21,
     "metadata": {},
     "output_type": "execute_result"
    }
   ],
   "source": [
    "df.head"
   ]
  },
  {
   "cell_type": "markdown",
   "metadata": {},
   "source": [
    "11.\tReplace  column MontantApReduction with Quantite* MontantApReduction\n",
    "\n",
    " rename the column with Total. "
   ]
  },
  {
   "cell_type": "code",
   "execution_count": 22,
   "metadata": {},
   "outputs": [],
   "source": [
    "df['MontantApReduction']=df['MontantApReduction']*df['Quantite']"
   ]
  },
  {
   "cell_type": "code",
   "execution_count": 23,
   "metadata": {},
   "outputs": [
    {
     "data": {
      "text/plain": [
       "<bound method NDFrame.head of       NumTicket NomPrenom Magasin   DateAchat Rayon ArticleEnPub Civilite  \\\n",
       "0      17949252      AUCL     752  2014-05-08     7          NaN      MME   \n",
       "1      12817341      AMAB     895  2013-03-24     6          NaN       MR   \n",
       "2      13575108      AMIS     905  2013-06-08     P          NaN      MME   \n",
       "3      19135477      AMIC     941  2014-08-30     7          NaN      MME   \n",
       "4       9170032      ARZO     865  2012-12-02     6          NaN       MR   \n",
       "...         ...       ...     ...         ...   ...          ...      ...   \n",
       "2442   23177060      ZENI     791  2016-03-17     6           PB       MR   \n",
       "2443   16795053      ZULA     U10  2014-01-18     6          NaN       MR   \n",
       "2444   24026738      ZORN     554  2016-08-27     7           PB      MME   \n",
       "2445    3187683      ZILL     152  2011-08-26     6          NaN     MLLE   \n",
       "2446   20022450      ZIMM     175  2014-11-22     C          NaN  INCONNU   \n",
       "\n",
       "      CodePostal  Quantite  PrixSurEtiquette  PrixUnitaire  \\\n",
       "0          37645         1             39.99         39.99   \n",
       "1          37609         1            289.00        289.00   \n",
       "2          39117         1              0.00          0.00   \n",
       "3          36420         1             13.99          9.79   \n",
       "4          36724         1            159.00        159.00   \n",
       "...          ...       ...               ...           ...   \n",
       "2442       34579         1            149.00        149.00   \n",
       "2443       37706         1             89.95         89.95   \n",
       "2444       38668         1              3.90          3.90   \n",
       "2445       39026         2             99.50         99.50   \n",
       "2446       39616         1              4.88         -4.88   \n",
       "\n",
       "      MontantAvReduction  MontantApReduction  CodeWeb AbonneNewslettre  \\\n",
       "0                  39.99               38.18      NaN              NaN   \n",
       "1                 286.85              286.85      NaN              NaN   \n",
       "2                   0.00                0.00      NaN              NaN   \n",
       "3                   9.79                9.79      NaN              NaN   \n",
       "4                 159.00              159.00      NaN              NaN   \n",
       "...                  ...                 ...      ...              ...   \n",
       "2442              149.00              149.00      NaN              NaN   \n",
       "2443               89.95               89.95      NaN              NaN   \n",
       "2444                3.51                3.51      NaN              NaN   \n",
       "2445              199.00              392.62      NaN              NaN   \n",
       "2446               -4.88               -4.88      NaN              NaN   \n",
       "\n",
       "       Article Famille  SousFamille  \n",
       "0     77746200      96        854.0  \n",
       "1     77722074      69        692.0  \n",
       "2         F840      23        840.0  \n",
       "3     77739607      80        807.0  \n",
       "4     77706958      63        632.0  \n",
       "...        ...     ...          ...  \n",
       "2442  67590334      88        675.0  \n",
       "2443  77742854      89        890.0  \n",
       "2444  77733730      75        758.0  \n",
       "2445  77707761      64        642.0  \n",
       "2446      F023      CF         23.0  \n",
       "\n",
       "[2447 rows x 18 columns]>"
      ]
     },
     "execution_count": 23,
     "metadata": {},
     "output_type": "execute_result"
    }
   ],
   "source": [
    "df.head"
   ]
  },
  {
   "cell_type": "code",
   "execution_count": 24,
   "metadata": {},
   "outputs": [],
   "source": [
    "df.rename(columns={'MontantApReduction':'Total'}, inplace=True)"
   ]
  },
  {
   "cell_type": "markdown",
   "metadata": {},
   "source": [
    "12.\tHow many tickets are there per civilite? Draw the pie chart that illustrates this distribution.\n",
    "\n",
    "\n",
    "       What can we conclude?\n",
    "    \n",
    "    \n",
    "We group the data by civilite and then we do a count. We store the result of this grouping/counting in a new dataframe repartition. We rename the column and display repartition.\n",
    "To produce a pie chart we use the matplotlib.pyplot library\n"
   ]
  },
  {
   "cell_type": "code",
   "execution_count": 26,
   "metadata": {},
   "outputs": [],
   "source": [
    "repartition=df.groupby('Civilite').agg({'NumTicket': ['count']})"
   ]
  },
  {
   "cell_type": "code",
   "execution_count": 27,
   "metadata": {},
   "outputs": [
    {
     "data": {
      "text/html": [
       "<div>\n",
       "<style scoped>\n",
       "    .dataframe tbody tr th:only-of-type {\n",
       "        vertical-align: middle;\n",
       "    }\n",
       "\n",
       "    .dataframe tbody tr th {\n",
       "        vertical-align: top;\n",
       "    }\n",
       "\n",
       "    .dataframe thead th {\n",
       "        text-align: right;\n",
       "    }\n",
       "</style>\n",
       "<table border=\"1\" class=\"dataframe\">\n",
       "  <thead>\n",
       "    <tr style=\"text-align: right;\">\n",
       "      <th></th>\n",
       "      <th>NbTicket</th>\n",
       "    </tr>\n",
       "    <tr>\n",
       "      <th>Civilite</th>\n",
       "      <th></th>\n",
       "    </tr>\n",
       "  </thead>\n",
       "  <tbody>\n",
       "    <tr>\n",
       "      <th>COUPLE</th>\n",
       "      <td>272</td>\n",
       "    </tr>\n",
       "    <tr>\n",
       "      <th>INCONNU</th>\n",
       "      <td>57</td>\n",
       "    </tr>\n",
       "    <tr>\n",
       "      <th>MLLE</th>\n",
       "      <td>99</td>\n",
       "    </tr>\n",
       "    <tr>\n",
       "      <th>MME</th>\n",
       "      <td>1116</td>\n",
       "    </tr>\n",
       "    <tr>\n",
       "      <th>MR</th>\n",
       "      <td>788</td>\n",
       "    </tr>\n",
       "    <tr>\n",
       "      <th>STE</th>\n",
       "      <td>115</td>\n",
       "    </tr>\n",
       "  </tbody>\n",
       "</table>\n",
       "</div>"
      ],
      "text/plain": [
       "          NbTicket\n",
       "Civilite          \n",
       "COUPLE         272\n",
       "INCONNU         57\n",
       "MLLE            99\n",
       "MME           1116\n",
       "MR             788\n",
       "STE            115"
      ]
     },
     "execution_count": 27,
     "metadata": {},
     "output_type": "execute_result"
    }
   ],
   "source": [
    "repartition.columns=['NbTicket']\n",
    "repartition"
   ]
  },
  {
   "cell_type": "code",
   "execution_count": 28,
   "metadata": {},
   "outputs": [
    {
     "data": {
      "text/plain": [
       "([<matplotlib.patches.Wedge at 0x13cc6ba01c0>,\n",
       "  <matplotlib.patches.Wedge at 0x13cc6ba0670>,\n",
       "  <matplotlib.patches.Wedge at 0x13cc6ba0af0>,\n",
       "  <matplotlib.patches.Wedge at 0x13cc6ba0f70>,\n",
       "  <matplotlib.patches.Wedge at 0x13cc6bb1430>,\n",
       "  <matplotlib.patches.Wedge at 0x13cc6bb18b0>],\n",
       " [Text(1.0336082069045929, 0.3763695984261648, 'COUPLE'),\n",
       "  Text(0.7884780536328734, 0.7670087085159567, 'INCONNU'),\n",
       "  Text(0.6201242931549842, 0.9085405115012931, 'MLLE'),\n",
       "  Text(-0.9017192950454839, 0.6300018356661158, 'MME'),\n",
       "  Text(0.28686024396180865, -1.06193747482334, 'MR'),\n",
       "  Text(1.0880325660286707, -0.16181821671575225, 'STE')])"
      ]
     },
     "execution_count": 28,
     "metadata": {},
     "output_type": "execute_result"
    },
    {
     "data": {
      "image/png": "[encoded data removed]",
      "text/plain": [
       "<Figure size 432x288 with 1 Axes>"
      ]
     },
     "metadata": {},
     "output_type": "display_data"
    }
   ],
   "source": [
    "import matplotlib.pyplot as plt\n",
    "plt.pie(x=repartition[\"NbTicket\"], labels=repartition.index)"
   ]
  },
  {
   "cell_type": "markdown",
   "metadata": {},
   "source": [
    "13.\tWhat is the biggest Total for  MME? \n",
    "\n",
    "The average Total for STE? \n",
    "\n",
    "We make a grouping then we calculate max/average/... Then we select the civilite object of the study."
   ]
  },
  {
   "cell_type": "code",
   "execution_count": 29,
   "metadata": {},
   "outputs": [
    {
     "data": {
      "text/html": [
       "<div>\n",
       "<style scoped>\n",
       "    .dataframe tbody tr th:only-of-type {\n",
       "        vertical-align: middle;\n",
       "    }\n",
       "\n",
       "    .dataframe tbody tr th {\n",
       "        vertical-align: top;\n",
       "    }\n",
       "\n",
       "    .dataframe thead tr th {\n",
       "        text-align: left;\n",
       "    }\n",
       "\n",
       "    .dataframe thead tr:last-of-type th {\n",
       "        text-align: right;\n",
       "    }\n",
       "</style>\n",
       "<table border=\"1\" class=\"dataframe\">\n",
       "  <thead>\n",
       "    <tr>\n",
       "      <th></th>\n",
       "      <th>Total</th>\n",
       "    </tr>\n",
       "    <tr>\n",
       "      <th></th>\n",
       "      <th>max</th>\n",
       "    </tr>\n",
       "    <tr>\n",
       "      <th>Civilite</th>\n",
       "      <th></th>\n",
       "    </tr>\n",
       "  </thead>\n",
       "  <tbody>\n",
       "    <tr>\n",
       "      <th>MME</th>\n",
       "      <td>3675.0</td>\n",
       "    </tr>\n",
       "  </tbody>\n",
       "</table>\n",
       "</div>"
      ],
      "text/plain": [
       "           Total\n",
       "             max\n",
       "Civilite        \n",
       "MME       3675.0"
      ]
     },
     "execution_count": 29,
     "metadata": {},
     "output_type": "execute_result"
    }
   ],
   "source": [
    "repartition=df.groupby('Civilite').agg({'Total': ['max']})\n",
    "repartition.loc[repartition.index=='MME']"
   ]
  },
  {
   "cell_type": "code",
   "execution_count": 30,
   "metadata": {},
   "outputs": [
    {
     "data": {
      "text/html": [
       "<div>\n",
       "<style scoped>\n",
       "    .dataframe tbody tr th:only-of-type {\n",
       "        vertical-align: middle;\n",
       "    }\n",
       "\n",
       "    .dataframe tbody tr th {\n",
       "        vertical-align: top;\n",
       "    }\n",
       "\n",
       "    .dataframe thead tr th {\n",
       "        text-align: left;\n",
       "    }\n",
       "\n",
       "    .dataframe thead tr:last-of-type th {\n",
       "        text-align: right;\n",
       "    }\n",
       "</style>\n",
       "<table border=\"1\" class=\"dataframe\">\n",
       "  <thead>\n",
       "    <tr>\n",
       "      <th></th>\n",
       "      <th>Total</th>\n",
       "    </tr>\n",
       "    <tr>\n",
       "      <th></th>\n",
       "      <th>mean</th>\n",
       "    </tr>\n",
       "    <tr>\n",
       "      <th>Civilite</th>\n",
       "      <th></th>\n",
       "    </tr>\n",
       "  </thead>\n",
       "  <tbody>\n",
       "    <tr>\n",
       "      <th>STE</th>\n",
       "      <td>173.874912</td>\n",
       "    </tr>\n",
       "  </tbody>\n",
       "</table>\n",
       "</div>"
      ],
      "text/plain": [
       "               Total\n",
       "                mean\n",
       "Civilite            \n",
       "STE       173.874912"
      ]
     },
     "execution_count": 30,
     "metadata": {},
     "output_type": "execute_result"
    }
   ],
   "source": [
    "repartition=df.groupby('Civilite').agg({'Total': ['mean']})\n",
    "repartition.loc[repartition.index=='STE']"
   ]
  },
  {
   "cell_type": "markdown",
   "metadata": {},
   "source": [
    "14.\tProduce Box plots of the Civilite Totals. "
   ]
  },
  {
   "cell_type": "code",
   "execution_count": 31,
   "metadata": {},
   "outputs": [
    {
     "data": {
      "text/plain": [
       "<matplotlib.axes._subplots.AxesSubplot at 0x13cc6c48dc0>"
      ]
     },
     "execution_count": 31,
     "metadata": {},
     "output_type": "execute_result"
    },
    {
     "data": {
      "image/png": "[encoded data removed]",
      "text/plain": [
       "<Figure size 432x288 with 1 Axes>"
      ]
     },
     "metadata": {
      "needs_background": "light"
     },
     "output_type": "display_data"
    }
   ],
   "source": [
    "df.boxplot(\"Total\", by=\"Civilite\")"
   ]
  },
  {
   "cell_type": "markdown",
   "metadata": {},
   "source": [
    "it's not easy to analyse box plots with a lot of outliers "
   ]
  },
  {
   "cell_type": "markdown",
   "metadata": {},
   "source": [
    "15.\tFor better comparison, remove the outliers above 500.\n",
    "\n",
    "Reproduce the moustache boxes and read. \n",
    "\n",
    "Except for the UNKNOWN civility, the smallest box is the MME one: homogeneous population of ladies."
   ]
  },
  {
   "cell_type": "code",
   "execution_count": 32,
   "metadata": {},
   "outputs": [
    {
     "data": {
      "text/plain": [
       "<matplotlib.axes._subplots.AxesSubplot at 0x13cc6d34550>"
      ]
     },
     "execution_count": 32,
     "metadata": {},
     "output_type": "execute_result"
    },
    {
     "data": {
      "image/png": "[encoded data removed]",
      "text/plain": [
       "<Figure size 432x288 with 1 Axes>"
      ]
     },
     "metadata": {
      "needs_background": "light"
     },
     "output_type": "display_data"
    }
   ],
   "source": [
    "df.loc[df['Total']<500].boxplot(\"Total\", by=\"Civilite\")"
   ]
  },
  {
   "cell_type": "markdown",
   "metadata": {},
   "source": [
    "16.\tAdd a Recency variable \"Recence\", whose value is equal to the difference between the purchase date and the system date. \n",
    "The column DateAchat (purchase Date) is read as a string, it must first be converted to a date and then subtracted from the system date in terms of days.\n",
    "\n",
    "we'll need datetime library"
   ]
  },
  {
   "cell_type": "code",
   "execution_count": 33,
   "metadata": {},
   "outputs": [],
   "source": [
    "from datetime import datetime\n",
    "df['DateAchat'] = pd.to_datetime(df['DateAchat'])\n",
    "df['Recence']=(datetime.now() - df['DateAchat']).dt.days"
   ]
  },
  {
   "cell_type": "code",
   "execution_count": 34,
   "metadata": {},
   "outputs": [
    {
     "data": {
      "text/plain": [
       "<bound method NDFrame.head of       NumTicket NomPrenom Magasin  DateAchat Rayon ArticleEnPub Civilite  \\\n",
       "0      17949252      AUCL     752 2014-05-08     7          NaN      MME   \n",
       "1      12817341      AMAB     895 2013-03-24     6          NaN       MR   \n",
       "2      13575108      AMIS     905 2013-06-08     P          NaN      MME   \n",
       "3      19135477      AMIC     941 2014-08-30     7          NaN      MME   \n",
       "4       9170032      ARZO     865 2012-12-02     6          NaN       MR   \n",
       "...         ...       ...     ...        ...   ...          ...      ...   \n",
       "2442   23177060      ZENI     791 2016-03-17     6           PB       MR   \n",
       "2443   16795053      ZULA     U10 2014-01-18     6          NaN       MR   \n",
       "2444   24026738      ZORN     554 2016-08-27     7           PB      MME   \n",
       "2445    3187683      ZILL     152 2011-08-26     6          NaN     MLLE   \n",
       "2446   20022450      ZIMM     175 2014-11-22     C          NaN  INCONNU   \n",
       "\n",
       "      CodePostal  Quantite  PrixSurEtiquette  PrixUnitaire  \\\n",
       "0          37645         1             39.99         39.99   \n",
       "1          37609         1            289.00        289.00   \n",
       "2          39117         1              0.00          0.00   \n",
       "3          36420         1             13.99          9.79   \n",
       "4          36724         1            159.00        159.00   \n",
       "...          ...       ...               ...           ...   \n",
       "2442       34579         1            149.00        149.00   \n",
       "2443       37706         1             89.95         89.95   \n",
       "2444       38668         1              3.90          3.90   \n",
       "2445       39026         2             99.50         99.50   \n",
       "2446       39616         1              4.88         -4.88   \n",
       "\n",
       "      MontantAvReduction   Total  CodeWeb AbonneNewslettre   Article Famille  \\\n",
       "0                  39.99   38.18      NaN              NaN  77746200      96   \n",
       "1                 286.85  286.85      NaN              NaN  77722074      69   \n",
       "2                   0.00    0.00      NaN              NaN      F840      23   \n",
       "3                   9.79    9.79      NaN              NaN  77739607      80   \n",
       "4                 159.00  159.00      NaN              NaN  77706958      63   \n",
       "...                  ...     ...      ...              ...       ...     ...   \n",
       "2442              149.00  149.00      NaN              NaN  67590334      88   \n",
       "2443               89.95   89.95      NaN              NaN  77742854      89   \n",
       "2444                3.51    3.51      NaN              NaN  77733730      75   \n",
       "2445              199.00  392.62      NaN              NaN  77707761      64   \n",
       "2446               -4.88   -4.88      NaN              NaN      F023      CF   \n",
       "\n",
       "      SousFamille  Recence  \n",
       "0           854.0     2658  \n",
       "1           692.0     3068  \n",
       "2           840.0     2992  \n",
       "3           807.0     2544  \n",
       "4           632.0     3180  \n",
       "...           ...      ...  \n",
       "2442        675.0     1979  \n",
       "2443        890.0     2768  \n",
       "2444        758.0     1816  \n",
       "2445        642.0     3644  \n",
       "2446         23.0     2460  \n",
       "\n",
       "[2447 rows x 19 columns]>"
      ]
     },
     "execution_count": 34,
     "metadata": {},
     "output_type": "execute_result"
    }
   ],
   "source": [
    "df.head"
   ]
  },
  {
   "cell_type": "markdown",
   "metadata": {},
   "source": [
    "17.\tIllustrate the frequency distribution of 'Recence' with an histogram. "
   ]
  },
  {
   "cell_type": "code",
   "execution_count": 35,
   "metadata": {},
   "outputs": [
    {
     "data": {
      "image/png": "[encoded data removed]",
      "text/plain": [
       "<Figure size 432x288 with 1 Axes>"
      ]
     },
     "metadata": {
      "needs_background": "light"
     },
     "output_type": "display_data"
    }
   ],
   "source": [
    "df['Recence'].hist(bins=100)\n",
    "plt.show()"
   ]
  },
  {
   "cell_type": "markdown",
   "metadata": {},
   "source": [
    "18.\tDisplay the quartiles, the mean and the median for the \"Recence\" variable. \n",
    "What do we notice? The mean and the median are almost identical. We plot the boxplot, it is clear that 'Recence' follows a normal distribution"
   ]
  },
  {
   "cell_type": "code",
   "execution_count": 36,
   "metadata": {},
   "outputs": [
    {
     "data": {
      "text/plain": [
       "0.00    1810.0\n",
       "0.25    2537.0\n",
       "0.50    2951.0\n",
       "0.75    3405.0\n",
       "1.00    4037.0\n",
       "Name: Recence, dtype: float64"
      ]
     },
     "execution_count": 36,
     "metadata": {},
     "output_type": "execute_result"
    }
   ],
   "source": [
    "df.Recence.quantile([0,0.25,0.5,0.75,1])"
   ]
  },
  {
   "cell_type": "code",
   "execution_count": 37,
   "metadata": {},
   "outputs": [
    {
     "data": {
      "text/plain": [
       "2946.3134450347366"
      ]
     },
     "execution_count": 37,
     "metadata": {},
     "output_type": "execute_result"
    }
   ],
   "source": [
    "df.Recence.mean()"
   ]
  },
  {
   "cell_type": "code",
   "execution_count": 38,
   "metadata": {},
   "outputs": [
    {
     "data": {
      "text/plain": [
       "2951.0"
      ]
     },
     "execution_count": 38,
     "metadata": {},
     "output_type": "execute_result"
    }
   ],
   "source": [
    "df.Recence.median()"
   ]
  },
  {
   "cell_type": "code",
   "execution_count": 39,
   "metadata": {},
   "outputs": [
    {
     "data": {
      "text/plain": [
       "<matplotlib.axes._subplots.AxesSubplot at 0x13cc6f696d0>"
      ]
     },
     "execution_count": 39,
     "metadata": {},
     "output_type": "execute_result"
    },
    {
     "data": {
      "image/png": "[encoded data removed]",
      "text/plain": [
       "<Figure size 432x288 with 1 Axes>"
      ]
     },
     "metadata": {
      "needs_background": "light"
     },
     "output_type": "display_data"
    }
   ],
   "source": [
    "df.boxplot(\"Recence\")"
   ]
  },
  {
   "cell_type": "markdown",
   "metadata": {},
   "source": [
    "19.\tRecode 'Recence' variable as follows:\n",
    "    • very Recent if recency < 1500\n",
    "    • Recent if recency is between 1500 and 2500 \n",
    "    • old if recency > 2500 \n",
    "We cut the population in three subgroups and then we make a matching with the numpy library. We can visualize the distribution of each modality. Recent customers have a very low percentage."
   ]
  },
  {
   "cell_type": "code",
   "execution_count": 40,
   "metadata": {},
   "outputs": [],
   "source": [
    "import numpy as np\n",
    "criteria = [df['Recence']<1500, df['Recence'].between(1500,2500), df['Recence']>2500]\n",
    "values = ['Recent','Moyen','Ancien']\n",
    "df['Rec'] = np.select(criteria, values, 0)"
   ]
  },
  {
   "cell_type": "code",
   "execution_count": 41,
   "metadata": {},
   "outputs": [
    {
     "data": {
      "text/html": [
       "<div>\n",
       "<style scoped>\n",
       "    .dataframe tbody tr th:only-of-type {\n",
       "        vertical-align: middle;\n",
       "    }\n",
       "\n",
       "    .dataframe tbody tr th {\n",
       "        vertical-align: top;\n",
       "    }\n",
       "\n",
       "    .dataframe thead tr th {\n",
       "        text-align: left;\n",
       "    }\n",
       "\n",
       "    .dataframe thead tr:last-of-type th {\n",
       "        text-align: right;\n",
       "    }\n",
       "</style>\n",
       "<table border=\"1\" class=\"dataframe\">\n",
       "  <thead>\n",
       "    <tr>\n",
       "      <th></th>\n",
       "      <th>NumTicket</th>\n",
       "    </tr>\n",
       "    <tr>\n",
       "      <th></th>\n",
       "      <th>count</th>\n",
       "    </tr>\n",
       "    <tr>\n",
       "      <th>Rec</th>\n",
       "      <th></th>\n",
       "    </tr>\n",
       "  </thead>\n",
       "  <tbody>\n",
       "    <tr>\n",
       "      <th>Ancien</th>\n",
       "      <td>1880</td>\n",
       "    </tr>\n",
       "    <tr>\n",
       "      <th>Moyen</th>\n",
       "      <td>567</td>\n",
       "    </tr>\n",
       "  </tbody>\n",
       "</table>\n",
       "</div>"
      ],
      "text/plain": [
       "       NumTicket\n",
       "           count\n",
       "Rec             \n",
       "Ancien      1880\n",
       "Moyen        567"
      ]
     },
     "execution_count": 41,
     "metadata": {},
     "output_type": "execute_result"
    }
   ],
   "source": [
    "df.groupby('Rec').agg({'NumTicket': ['count']})"
   ]
  },
  {
   "cell_type": "code",
   "execution_count": null,
   "metadata": {},
   "outputs": [],
   "source": []
  }
 ],
 "metadata": {
  "kernelspec": {
   "display_name": "Python 3",
   "language": "python",
   "name": "python3"
  },
  "language_info": {
   "codemirror_mode": {
    "name": "ipython",
    "version": 3
   },
   "file_extension": ".py",
   "mimetype": "text/x-python",
   "name": "python",
   "nbconvert_exporter": "python",
   "pygments_lexer": "ipython3",
   "version": "3.8.3"
  }
 },
 "nbformat": 4,
 "nbformat_minor": 4
}
